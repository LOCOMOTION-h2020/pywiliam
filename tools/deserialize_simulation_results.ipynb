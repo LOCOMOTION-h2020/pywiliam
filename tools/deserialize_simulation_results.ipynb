{
 "cells": [
  {
   "cell_type": "markdown",
   "id": "cc31326f",
   "metadata": {},
   "source": [
    "# Managing and exporting datasets from .nc files"
   ]
  },
  {
   "cell_type": "markdown",
   "id": "beca1935",
   "metadata": {},
   "source": [
    "By following this tutorial, you should be able to open a nc file, visualize the parameters and variables stored on it and export some of them to a tab or csv file."
   ]
  },
  {
   "cell_type": "code",
   "execution_count": null,
   "id": "bb430564",
   "metadata": {},
   "outputs": [],
   "source": [
    "import pysd\n",
    "from pysd.tools.ncfiles import NCFile\n",
    "import pandas as pd\n",
    "import warnings\n",
    "\n",
    "pd.set_option('display.max_row', None)\n",
    "warnings.filterwarnings('ignore')"
   ]
  },
  {
   "cell_type": "markdown",
   "id": "292a7067",
   "metadata": {},
   "source": [
    "<div class=\"alert alert-block alert-danger\">\n",
    "<b>WARNING:</b> To use this script, you must be using PySD 3.8 or newer, and the netCDF4 and dask Python libraries must be installed in your environment.\n",
    "</div>"
   ]
  },
  {
   "cell_type": "code",
   "execution_count": null,
   "id": "cec39e1a",
   "metadata": {},
   "outputs": [],
   "source": [
    "pysd.__version__"
   ]
  },
  {
   "cell_type": "code",
   "execution_count": null,
   "id": "8cb24b66",
   "metadata": {},
   "outputs": [],
   "source": [
    "# folder where the nc file is located \n",
    "# no need to change this one, unless you moved the nc file to a different folder\n",
    "results_folder = \"../results/\""
   ]
  },
  {
   "cell_type": "markdown",
   "id": "cd6aca5c",
   "metadata": {},
   "source": [
    "## Configure exports paths"
   ]
  },
  {
   "cell_type": "code",
   "execution_count": null,
   "id": "ca09eef7",
   "metadata": {},
   "outputs": [],
   "source": [
    "# Put here the name of the nc file you want to export data from\n",
    "simulation_results = \"results_scenario_parameters_2005_2010_0.25.nc\""
   ]
  },
  {
   "cell_type": "markdown",
   "id": "873fe737",
   "metadata": {},
   "source": [
    "The exported data will be stored in the results folder in a tab file with the same name (i.e. results_scenario_parameters_2005_2010_0.25_export.tab)"
   ]
  },
  {
   "cell_type": "markdown",
   "id": "cd7ddaee",
   "metadata": {},
   "source": [
    "## Loading simulation results"
   ]
  },
  {
   "cell_type": "markdown",
   "id": "b2237dd8",
   "metadata": {},
   "source": [
    "No need to change anything here.\n",
    "\n",
    "Results will be stored as an xarray Dataset in the ds attribute (you can access it via nc.ds)\n",
    "\n",
    "We use parallel=True for better performance (uses dask delayed computation).\n"
   ]
  },
  {
   "cell_type": "code",
   "execution_count": null,
   "id": "f9fbb014",
   "metadata": {},
   "outputs": [],
   "source": [
    "# loading the data. \n",
    "nc = NCFile(results_folder + simulation_results, parallel=True)"
   ]
  },
  {
   "cell_type": "markdown",
   "id": "3961d913",
   "metadata": {},
   "source": [
    "### Optional: List all available model parameters and variables with their descriptions, units and dimensions "
   ]
  },
  {
   "cell_type": "code",
   "execution_count": null,
   "id": "8aa7f939",
   "metadata": {
    "scrolled": true
   },
   "outputs": [],
   "source": [
    "dataset = nc.ds\n",
    "pd.DataFrame([(name, dataset[name].Comment, dataset[name].Units, \", \".join(dataset[name].dims)) for name in dataset.data_vars.keys()], columns=[\"Name\", \"Description\", \"Units\", \"Dimensions\"]).style.hide_index()"
   ]
  },
  {
   "cell_type": "markdown",
   "id": "c36c1ef8",
   "metadata": {},
   "source": [
    "## Define variables to export"
   ]
  },
  {
   "cell_type": "markdown",
   "id": "33fce155",
   "metadata": {},
   "source": [
    "Define here which model parameters or variables you wish to export.\n",
    "\n",
    "You can choose any model variable (including inputs)"
   ]
  },
  {
   "cell_type": "code",
   "execution_count": null,
   "id": "10530486",
   "metadata": {},
   "outputs": [],
   "source": [
    "# Modify this list\n",
    "variables_to_export = [\"total_water_demand_region\", \"total_mineral_supply\"]"
   ]
  },
  {
   "cell_type": "markdown",
   "id": "4e702f44",
   "metadata": {},
   "source": [
    "### Optional: visualizing the data before exporting"
   ]
  },
  {
   "cell_type": "markdown",
   "id": "1bb9dfcc",
   "metadata": {},
   "source": [
    "If you just want to visualize the data without exporting it, you can execute the following line.\n",
    "\n",
    "If you want to export the data to a file, skip this and go to the next section."
   ]
  },
  {
   "cell_type": "code",
   "execution_count": null,
   "id": "2df4586d",
   "metadata": {},
   "outputs": [],
   "source": [
    "df = nc.to_df(subset=variables_to_export)\n",
    "df"
   ]
  },
  {
   "cell_type": "markdown",
   "id": "9daa5fc0",
   "metadata": {},
   "source": [
    "## Exporting the selected variables"
   ]
  },
  {
   "cell_type": "code",
   "execution_count": null,
   "id": "c9721a21",
   "metadata": {},
   "outputs": [],
   "source": [
    "export_file = simulation_results.split(\".\")[0] + \".tab\"\n",
    "\n",
    "out_file = results_folder + export_file\n",
    "\n",
    "# exporting the subset of variables\n",
    "if 'df' in vars():\n",
    "    NCFile.df_to_text_file(df, outfile=out_file, time_in_row=True)\n",
    "else:\n",
    "    nc.to_text_file(outfile=out_file, subset=variables_to_export, time_in_row=True)"
   ]
  }
 ],
 "metadata": {
  "kernelspec": {
   "display_name": "pywiliam",
   "language": "python",
   "name": "pywiliam"
  },
  "language_info": {
   "codemirror_mode": {
    "name": "ipython",
    "version": 3
   },
   "file_extension": ".py",
   "mimetype": "text/x-python",
   "name": "python",
   "nbconvert_exporter": "python",
   "pygments_lexer": "ipython3",
   "version": "3.10.6"
  }
 },
 "nbformat": 4,
 "nbformat_minor": 5
}
