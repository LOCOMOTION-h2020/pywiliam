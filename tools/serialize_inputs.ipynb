{
 "cells": [
  {
   "cell_type": "markdown",
   "id": "9602d954",
   "metadata": {},
   "source": [
    "# Inputs serialization"
   ]
  },
  {
   "cell_type": "markdown",
   "id": "e58eee55",
   "metadata": {},
   "source": [
    "Loading external data from the input files (from the model_parameters and scenario_parameters folders) is slow. This jupyter notebook shows how external objects can be serialized into a binary object (netCDF file), which can later be used to initialize the objects almost instantaneously."
   ]
  },
  {
   "cell_type": "markdown",
   "id": "ef44076f",
   "metadata": {},
   "source": [
    "<div class=\"alert alert-block alert-info\">\n",
    "<b>NOTE:</b> Serialize only those model parameters you do not intend to change from the Excel files.\n",
    "</div>"
   ]
  },
  {
   "cell_type": "markdown",
   "id": "4480edd1",
   "metadata": {},
   "source": [
    "Here we demonstrate one of the most likely use cases for serializing external data. This corresponds to the case where the user wants to run many different simulations, by just changing the values of the scenario parameters (in scenario_parameters.xlsx).\n",
    "\n",
    "In that case, the user may want to serialize all external data but that defined in the scenario_parameters.xlsx file. \n",
    "\n",
    "Here is how that can be achieved: \n"
   ]
  },
  {
   "cell_type": "code",
   "execution_count": null,
   "id": "d885960e",
   "metadata": {},
   "outputs": [],
   "source": [
    "import pysd\n",
    "import warnings\n",
    "warnings.filterwarnings('ignore')"
   ]
  },
  {
   "cell_type": "code",
   "execution_count": null,
   "id": "4cc25143",
   "metadata": {},
   "outputs": [],
   "source": [
    "# check PySD version\n",
    "pysd.__version__"
   ]
  },
  {
   "cell_type": "markdown",
   "id": "2b7b744e",
   "metadata": {},
   "source": [
    "<div class=\"alert alert-block alert-danger\">\n",
    "<b>WARNING:</b> To use this script, you must be using PySD 3.8 or newer, and the netCDF4 Python library must be installed in your environment.\n",
    "</div>"
   ]
  },
  {
   "cell_type": "code",
   "execution_count": null,
   "id": "5b3712a8",
   "metadata": {},
   "outputs": [],
   "source": [
    "# define the path to the WILIAM model\n",
    "model_path = \"../WILIAM.py\""
   ]
  },
  {
   "cell_type": "code",
   "execution_count": null,
   "id": "7206e26a",
   "metadata": {},
   "outputs": [],
   "source": [
    "# define the path to the file where you want to export external data (must have .nc extension)\n",
    "ncfile_path = \"../externals.nc\""
   ]
  },
  {
   "cell_type": "markdown",
   "id": "93742fbb",
   "metadata": {},
   "source": [
    "## Defining external parameters to include"
   ]
  },
  {
   "cell_type": "markdown",
   "id": "d277e71b",
   "metadata": {},
   "source": [
    "When set to \"all\", as in the current case, all external data will be serialized (except for what is included in the excluded argument, see below).\n",
    "\n",
    "Alternatively, it can be a list with names of model parameters or spreadsheed files, or a combination of both. In this particular case, only the listed parameters, and the parameters defined in the spreadsheet files will be serialized."
   ]
  },
  {
   "cell_type": "code",
   "execution_count": null,
   "id": "07d02b70",
   "metadata": {},
   "outputs": [],
   "source": [
    "included = \"all\""
   ]
  },
  {
   "cell_type": "markdown",
   "id": "59b3cc4e",
   "metadata": {},
   "source": [
    "## Defining external parameters to exclude"
   ]
  },
  {
   "cell_type": "markdown",
   "id": "30d553b8",
   "metadata": {},
   "source": [
    "List of names of model parameters or input spredsheet files to exclude from serialization (or a combination of both). If a spredsheet file is included, all parameters defined in it will be excluded. \n",
    "\n",
    "If excluded=None, no model parameters will be excluded.\n",
    "\n",
    "For this example we only exclude the scenario_parameters file, because we want to run simulations with different scenario parameters."
   ]
  },
  {
   "cell_type": "code",
   "execution_count": null,
   "id": "8df55d25",
   "metadata": {},
   "outputs": [],
   "source": [
    "excluded = [\"../scenario_parameters/scenario_parameters.xlsx\"]"
   ]
  },
  {
   "cell_type": "markdown",
   "id": "dc909fcc",
   "metadata": {},
   "source": [
    "## Initializing the model and exporting external data to netCDF file"
   ]
  },
  {
   "cell_type": "code",
   "execution_count": null,
   "id": "a51f8fc8",
   "metadata": {},
   "outputs": [],
   "source": [
    "model = pysd.load(model_path, initialize=False) "
   ]
  },
  {
   "cell_type": "code",
   "execution_count": null,
   "id": "efe43862",
   "metadata": {},
   "outputs": [],
   "source": [
    "# this is where the magic happens. Be patient, it may take a few minutes to finish.\n",
    "model.serialize_externals(export_path=ncfile_path, include_externals=included, exclude_externals=excluded)"
   ]
  },
  {
   "cell_type": "markdown",
   "id": "b5542bac",
   "metadata": {},
   "source": [
    "## Initializing the model from the netCDF file"
   ]
  },
  {
   "cell_type": "markdown",
   "id": "2f794e49",
   "metadata": {},
   "source": [
    "This is achieved by passing the -e argument to the run.py script, as follows:\n",
    "\n",
    "\n",
    "python run.py -e externals.nc\n",
    "\n"
   ]
  }
 ],
 "metadata": {
  "kernelspec": {
   "display_name": "pywiliam",
   "language": "python",
   "name": "pywiliam"
  },
  "language_info": {
   "codemirror_mode": {
    "name": "ipython",
    "version": 3
   },
   "file_extension": ".py",
   "mimetype": "text/x-python",
   "name": "python",
   "nbconvert_exporter": "python",
   "pygments_lexer": "ipython3",
   "version": "3.10.6"
  }
 },
 "nbformat": 4,
 "nbformat_minor": 5
}
